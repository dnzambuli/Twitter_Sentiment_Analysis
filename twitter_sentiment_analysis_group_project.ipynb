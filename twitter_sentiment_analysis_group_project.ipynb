{
  "nbformat": 4,
  "nbformat_minor": 0,
  "metadata": {
    "colab": {
      "provenance": []
    },
    "kernelspec": {
      "name": "python3",
      "display_name": "Python 3"
    },
    "language_info": {
      "name": "python"
    }
  },
  "cells": [
    {
      "cell_type": "markdown",
      "source": [
        "# Performing sentiment analysis\n",
        "\n",
        "## Data Set\n",
        "\n",
        "`Covid tweets`\n",
        "\n",
        "The data set is as a result of a scrapping exercise by `GABRIEL PREDA` and was last updated in `2020`\n",
        "\n",
        "[Download source](https://www.kaggle.com/datasets/gpreda/covid19-tweets)\n",
        "\n",
        "[DOI](10.34740/kaggle/dsv/1451513)\n",
        "\n",
        "### Data Content\n",
        "\n",
        "Tweets with #covid19 hashtag. Collection started on 25/7/2020, with an initial 17k batch and will continue on a daily basis.\n",
        "\n",
        "The data is in the form of `csv`\n",
        "\n"
      ],
      "metadata": {
        "id": "BP45nBYMRkKu"
      }
    },
    {
      "cell_type": "code",
      "execution_count": 1,
      "metadata": {
        "id": "0BgAEc1lOIXb",
        "colab": {
          "base_uri": "https://localhost:8080/"
        },
        "outputId": "1a11b0da-c118-4441-d28d-3075dd6f326c"
      },
      "outputs": [
        {
          "output_type": "stream",
          "name": "stdout",
          "text": [
            "Mounted at /content/drive\n"
          ]
        }
      ],
      "source": [
        "from google.colab import drive\n",
        "drive.mount('/content/drive')"
      ]
    },
    {
      "cell_type": "code",
      "source": [
        "import pandas as pd\n",
        "\n",
        "# data set\n",
        "\n",
        "# data path\n",
        "path = \"drive/My Drive/covid19_tweets.csv\"\n",
        "\n",
        "# reading the data\n",
        "covidData = pd.read_csv(path)\n",
        "covidData.head()"
      ],
      "metadata": {
        "colab": {
          "base_uri": "https://localhost:8080/",
          "height": 452
        },
        "id": "wKdpfKgkZnNa",
        "outputId": "aac25fe5-d1ef-4023-98b9-ee2c452d750a"
      },
      "execution_count": 2,
      "outputs": [
        {
          "output_type": "execute_result",
          "data": {
            "text/plain": [
              "         user_name         user_location  \\\n",
              "0           ᏉᎥ☻լꂅϮ            astroworld   \n",
              "1    Tom Basile 🇺🇸          New York, NY   \n",
              "2  Time4fisticuffs      Pewee Valley, KY   \n",
              "3      ethel mertz  Stuck in the Middle    \n",
              "4         DIPR-J&K     Jammu and Kashmir   \n",
              "\n",
              "                                    user_description         user_created  \\\n",
              "0  wednesday addams as a disney princess keepin i...  2017-05-26 05:46:42   \n",
              "1  Husband, Father, Columnist & Commentator. Auth...  2009-04-16 20:06:23   \n",
              "2  #Christian #Catholic #Conservative #Reagan #Re...  2009-02-28 18:57:41   \n",
              "3  #Browns #Indians #ClevelandProud #[]_[] #Cavs ...  2019-03-07 01:45:06   \n",
              "4  🖊️Official Twitter handle of Department of Inf...  2017-02-12 06:45:15   \n",
              "\n",
              "   user_followers  user_friends  user_favourites  user_verified  \\\n",
              "0             624           950            18775          False   \n",
              "1            2253          1677               24           True   \n",
              "2            9275          9525             7254          False   \n",
              "3             197           987             1488          False   \n",
              "4          101009           168              101          False   \n",
              "\n",
              "                  date                                               text  \\\n",
              "0  2020-07-25 12:27:21  If I smelled the scent of hand sanitizers toda...   \n",
              "1  2020-07-25 12:27:17  Hey @Yankees @YankeesPR and @MLB - wouldn't it...   \n",
              "2  2020-07-25 12:27:14  @diane3443 @wdunlap @realDonaldTrump Trump nev...   \n",
              "3  2020-07-25 12:27:10  @brookbanktv The one gift #COVID19 has give me...   \n",
              "4  2020-07-25 12:27:08  25 July : Media Bulletin on Novel #CoronaVirus...   \n",
              "\n",
              "                            hashtags               source  is_retweet  \n",
              "0                                NaN   Twitter for iPhone       False  \n",
              "1                                NaN  Twitter for Android       False  \n",
              "2                        ['COVID19']  Twitter for Android       False  \n",
              "3                        ['COVID19']   Twitter for iPhone       False  \n",
              "4  ['CoronaVirusUpdates', 'COVID19']  Twitter for Android       False  "
            ],
            "text/html": [
              "\n",
              "  <div id=\"df-a82c3740-7eeb-48ab-a362-610b70e06eff\" class=\"colab-df-container\">\n",
              "    <div>\n",
              "<style scoped>\n",
              "    .dataframe tbody tr th:only-of-type {\n",
              "        vertical-align: middle;\n",
              "    }\n",
              "\n",
              "    .dataframe tbody tr th {\n",
              "        vertical-align: top;\n",
              "    }\n",
              "\n",
              "    .dataframe thead th {\n",
              "        text-align: right;\n",
              "    }\n",
              "</style>\n",
              "<table border=\"1\" class=\"dataframe\">\n",
              "  <thead>\n",
              "    <tr style=\"text-align: right;\">\n",
              "      <th></th>\n",
              "      <th>user_name</th>\n",
              "      <th>user_location</th>\n",
              "      <th>user_description</th>\n",
              "      <th>user_created</th>\n",
              "      <th>user_followers</th>\n",
              "      <th>user_friends</th>\n",
              "      <th>user_favourites</th>\n",
              "      <th>user_verified</th>\n",
              "      <th>date</th>\n",
              "      <th>text</th>\n",
              "      <th>hashtags</th>\n",
              "      <th>source</th>\n",
              "      <th>is_retweet</th>\n",
              "    </tr>\n",
              "  </thead>\n",
              "  <tbody>\n",
              "    <tr>\n",
              "      <th>0</th>\n",
              "      <td>ᏉᎥ☻լꂅϮ</td>\n",
              "      <td>astroworld</td>\n",
              "      <td>wednesday addams as a disney princess keepin i...</td>\n",
              "      <td>2017-05-26 05:46:42</td>\n",
              "      <td>624</td>\n",
              "      <td>950</td>\n",
              "      <td>18775</td>\n",
              "      <td>False</td>\n",
              "      <td>2020-07-25 12:27:21</td>\n",
              "      <td>If I smelled the scent of hand sanitizers toda...</td>\n",
              "      <td>NaN</td>\n",
              "      <td>Twitter for iPhone</td>\n",
              "      <td>False</td>\n",
              "    </tr>\n",
              "    <tr>\n",
              "      <th>1</th>\n",
              "      <td>Tom Basile 🇺🇸</td>\n",
              "      <td>New York, NY</td>\n",
              "      <td>Husband, Father, Columnist &amp; Commentator. Auth...</td>\n",
              "      <td>2009-04-16 20:06:23</td>\n",
              "      <td>2253</td>\n",
              "      <td>1677</td>\n",
              "      <td>24</td>\n",
              "      <td>True</td>\n",
              "      <td>2020-07-25 12:27:17</td>\n",
              "      <td>Hey @Yankees @YankeesPR and @MLB - wouldn't it...</td>\n",
              "      <td>NaN</td>\n",
              "      <td>Twitter for Android</td>\n",
              "      <td>False</td>\n",
              "    </tr>\n",
              "    <tr>\n",
              "      <th>2</th>\n",
              "      <td>Time4fisticuffs</td>\n",
              "      <td>Pewee Valley, KY</td>\n",
              "      <td>#Christian #Catholic #Conservative #Reagan #Re...</td>\n",
              "      <td>2009-02-28 18:57:41</td>\n",
              "      <td>9275</td>\n",
              "      <td>9525</td>\n",
              "      <td>7254</td>\n",
              "      <td>False</td>\n",
              "      <td>2020-07-25 12:27:14</td>\n",
              "      <td>@diane3443 @wdunlap @realDonaldTrump Trump nev...</td>\n",
              "      <td>['COVID19']</td>\n",
              "      <td>Twitter for Android</td>\n",
              "      <td>False</td>\n",
              "    </tr>\n",
              "    <tr>\n",
              "      <th>3</th>\n",
              "      <td>ethel mertz</td>\n",
              "      <td>Stuck in the Middle</td>\n",
              "      <td>#Browns #Indians #ClevelandProud #[]_[] #Cavs ...</td>\n",
              "      <td>2019-03-07 01:45:06</td>\n",
              "      <td>197</td>\n",
              "      <td>987</td>\n",
              "      <td>1488</td>\n",
              "      <td>False</td>\n",
              "      <td>2020-07-25 12:27:10</td>\n",
              "      <td>@brookbanktv The one gift #COVID19 has give me...</td>\n",
              "      <td>['COVID19']</td>\n",
              "      <td>Twitter for iPhone</td>\n",
              "      <td>False</td>\n",
              "    </tr>\n",
              "    <tr>\n",
              "      <th>4</th>\n",
              "      <td>DIPR-J&amp;K</td>\n",
              "      <td>Jammu and Kashmir</td>\n",
              "      <td>🖊️Official Twitter handle of Department of Inf...</td>\n",
              "      <td>2017-02-12 06:45:15</td>\n",
              "      <td>101009</td>\n",
              "      <td>168</td>\n",
              "      <td>101</td>\n",
              "      <td>False</td>\n",
              "      <td>2020-07-25 12:27:08</td>\n",
              "      <td>25 July : Media Bulletin on Novel #CoronaVirus...</td>\n",
              "      <td>['CoronaVirusUpdates', 'COVID19']</td>\n",
              "      <td>Twitter for Android</td>\n",
              "      <td>False</td>\n",
              "    </tr>\n",
              "  </tbody>\n",
              "</table>\n",
              "</div>\n",
              "    <div class=\"colab-df-buttons\">\n",
              "\n",
              "  <div class=\"colab-df-container\">\n",
              "    <button class=\"colab-df-convert\" onclick=\"convertToInteractive('df-a82c3740-7eeb-48ab-a362-610b70e06eff')\"\n",
              "            title=\"Convert this dataframe to an interactive table.\"\n",
              "            style=\"display:none;\">\n",
              "\n",
              "  <svg xmlns=\"http://www.w3.org/2000/svg\" height=\"24px\" viewBox=\"0 -960 960 960\">\n",
              "    <path d=\"M120-120v-720h720v720H120Zm60-500h600v-160H180v160Zm220 220h160v-160H400v160Zm0 220h160v-160H400v160ZM180-400h160v-160H180v160Zm440 0h160v-160H620v160ZM180-180h160v-160H180v160Zm440 0h160v-160H620v160Z\"/>\n",
              "  </svg>\n",
              "    </button>\n",
              "\n",
              "  <style>\n",
              "    .colab-df-container {\n",
              "      display:flex;\n",
              "      gap: 12px;\n",
              "    }\n",
              "\n",
              "    .colab-df-convert {\n",
              "      background-color: #E8F0FE;\n",
              "      border: none;\n",
              "      border-radius: 50%;\n",
              "      cursor: pointer;\n",
              "      display: none;\n",
              "      fill: #1967D2;\n",
              "      height: 32px;\n",
              "      padding: 0 0 0 0;\n",
              "      width: 32px;\n",
              "    }\n",
              "\n",
              "    .colab-df-convert:hover {\n",
              "      background-color: #E2EBFA;\n",
              "      box-shadow: 0px 1px 2px rgba(60, 64, 67, 0.3), 0px 1px 3px 1px rgba(60, 64, 67, 0.15);\n",
              "      fill: #174EA6;\n",
              "    }\n",
              "\n",
              "    .colab-df-buttons div {\n",
              "      margin-bottom: 4px;\n",
              "    }\n",
              "\n",
              "    [theme=dark] .colab-df-convert {\n",
              "      background-color: #3B4455;\n",
              "      fill: #D2E3FC;\n",
              "    }\n",
              "\n",
              "    [theme=dark] .colab-df-convert:hover {\n",
              "      background-color: #434B5C;\n",
              "      box-shadow: 0px 1px 3px 1px rgba(0, 0, 0, 0.15);\n",
              "      filter: drop-shadow(0px 1px 2px rgba(0, 0, 0, 0.3));\n",
              "      fill: #FFFFFF;\n",
              "    }\n",
              "  </style>\n",
              "\n",
              "    <script>\n",
              "      const buttonEl =\n",
              "        document.querySelector('#df-a82c3740-7eeb-48ab-a362-610b70e06eff button.colab-df-convert');\n",
              "      buttonEl.style.display =\n",
              "        google.colab.kernel.accessAllowed ? 'block' : 'none';\n",
              "\n",
              "      async function convertToInteractive(key) {\n",
              "        const element = document.querySelector('#df-a82c3740-7eeb-48ab-a362-610b70e06eff');\n",
              "        const dataTable =\n",
              "          await google.colab.kernel.invokeFunction('convertToInteractive',\n",
              "                                                    [key], {});\n",
              "        if (!dataTable) return;\n",
              "\n",
              "        const docLinkHtml = 'Like what you see? Visit the ' +\n",
              "          '<a target=\"_blank\" href=https://colab.research.google.com/notebooks/data_table.ipynb>data table notebook</a>'\n",
              "          + ' to learn more about interactive tables.';\n",
              "        element.innerHTML = '';\n",
              "        dataTable['output_type'] = 'display_data';\n",
              "        await google.colab.output.renderOutput(dataTable, element);\n",
              "        const docLink = document.createElement('div');\n",
              "        docLink.innerHTML = docLinkHtml;\n",
              "        element.appendChild(docLink);\n",
              "      }\n",
              "    </script>\n",
              "  </div>\n",
              "\n",
              "\n",
              "<div id=\"df-3bd7c72b-a7e4-4c53-a3ed-f47f847804f3\">\n",
              "  <button class=\"colab-df-quickchart\" onclick=\"quickchart('df-3bd7c72b-a7e4-4c53-a3ed-f47f847804f3')\"\n",
              "            title=\"Suggest charts.\"\n",
              "            style=\"display:none;\">\n",
              "\n",
              "<svg xmlns=\"http://www.w3.org/2000/svg\" height=\"24px\"viewBox=\"0 0 24 24\"\n",
              "     width=\"24px\">\n",
              "    <g>\n",
              "        <path d=\"M19 3H5c-1.1 0-2 .9-2 2v14c0 1.1.9 2 2 2h14c1.1 0 2-.9 2-2V5c0-1.1-.9-2-2-2zM9 17H7v-7h2v7zm4 0h-2V7h2v10zm4 0h-2v-4h2v4z\"/>\n",
              "    </g>\n",
              "</svg>\n",
              "  </button>\n",
              "\n",
              "<style>\n",
              "  .colab-df-quickchart {\n",
              "      --bg-color: #E8F0FE;\n",
              "      --fill-color: #1967D2;\n",
              "      --hover-bg-color: #E2EBFA;\n",
              "      --hover-fill-color: #174EA6;\n",
              "      --disabled-fill-color: #AAA;\n",
              "      --disabled-bg-color: #DDD;\n",
              "  }\n",
              "\n",
              "  [theme=dark] .colab-df-quickchart {\n",
              "      --bg-color: #3B4455;\n",
              "      --fill-color: #D2E3FC;\n",
              "      --hover-bg-color: #434B5C;\n",
              "      --hover-fill-color: #FFFFFF;\n",
              "      --disabled-bg-color: #3B4455;\n",
              "      --disabled-fill-color: #666;\n",
              "  }\n",
              "\n",
              "  .colab-df-quickchart {\n",
              "    background-color: var(--bg-color);\n",
              "    border: none;\n",
              "    border-radius: 50%;\n",
              "    cursor: pointer;\n",
              "    display: none;\n",
              "    fill: var(--fill-color);\n",
              "    height: 32px;\n",
              "    padding: 0;\n",
              "    width: 32px;\n",
              "  }\n",
              "\n",
              "  .colab-df-quickchart:hover {\n",
              "    background-color: var(--hover-bg-color);\n",
              "    box-shadow: 0 1px 2px rgba(60, 64, 67, 0.3), 0 1px 3px 1px rgba(60, 64, 67, 0.15);\n",
              "    fill: var(--button-hover-fill-color);\n",
              "  }\n",
              "\n",
              "  .colab-df-quickchart-complete:disabled,\n",
              "  .colab-df-quickchart-complete:disabled:hover {\n",
              "    background-color: var(--disabled-bg-color);\n",
              "    fill: var(--disabled-fill-color);\n",
              "    box-shadow: none;\n",
              "  }\n",
              "\n",
              "  .colab-df-spinner {\n",
              "    border: 2px solid var(--fill-color);\n",
              "    border-color: transparent;\n",
              "    border-bottom-color: var(--fill-color);\n",
              "    animation:\n",
              "      spin 1s steps(1) infinite;\n",
              "  }\n",
              "\n",
              "  @keyframes spin {\n",
              "    0% {\n",
              "      border-color: transparent;\n",
              "      border-bottom-color: var(--fill-color);\n",
              "      border-left-color: var(--fill-color);\n",
              "    }\n",
              "    20% {\n",
              "      border-color: transparent;\n",
              "      border-left-color: var(--fill-color);\n",
              "      border-top-color: var(--fill-color);\n",
              "    }\n",
              "    30% {\n",
              "      border-color: transparent;\n",
              "      border-left-color: var(--fill-color);\n",
              "      border-top-color: var(--fill-color);\n",
              "      border-right-color: var(--fill-color);\n",
              "    }\n",
              "    40% {\n",
              "      border-color: transparent;\n",
              "      border-right-color: var(--fill-color);\n",
              "      border-top-color: var(--fill-color);\n",
              "    }\n",
              "    60% {\n",
              "      border-color: transparent;\n",
              "      border-right-color: var(--fill-color);\n",
              "    }\n",
              "    80% {\n",
              "      border-color: transparent;\n",
              "      border-right-color: var(--fill-color);\n",
              "      border-bottom-color: var(--fill-color);\n",
              "    }\n",
              "    90% {\n",
              "      border-color: transparent;\n",
              "      border-bottom-color: var(--fill-color);\n",
              "    }\n",
              "  }\n",
              "</style>\n",
              "\n",
              "  <script>\n",
              "    async function quickchart(key) {\n",
              "      const quickchartButtonEl =\n",
              "        document.querySelector('#' + key + ' button');\n",
              "      quickchartButtonEl.disabled = true;  // To prevent multiple clicks.\n",
              "      quickchartButtonEl.classList.add('colab-df-spinner');\n",
              "      try {\n",
              "        const charts = await google.colab.kernel.invokeFunction(\n",
              "            'suggestCharts', [key], {});\n",
              "      } catch (error) {\n",
              "        console.error('Error during call to suggestCharts:', error);\n",
              "      }\n",
              "      quickchartButtonEl.classList.remove('colab-df-spinner');\n",
              "      quickchartButtonEl.classList.add('colab-df-quickchart-complete');\n",
              "    }\n",
              "    (() => {\n",
              "      let quickchartButtonEl =\n",
              "        document.querySelector('#df-3bd7c72b-a7e4-4c53-a3ed-f47f847804f3 button');\n",
              "      quickchartButtonEl.style.display =\n",
              "        google.colab.kernel.accessAllowed ? 'block' : 'none';\n",
              "    })();\n",
              "  </script>\n",
              "</div>\n",
              "    </div>\n",
              "  </div>\n"
            ]
          },
          "metadata": {},
          "execution_count": 2
        }
      ]
    },
    {
      "cell_type": "markdown",
      "source": [
        "# Analysis\n",
        "\n",
        "Using python natural language toolkit `NLTK`\n",
        "\n",
        "## Initial analysis\n",
        "\n",
        "### Vader Model\n",
        "\n",
        "Uses `a bag of words approach`\n",
        "\n",
        "This is a representation of text illustrating the occurrence of words within a document\n",
        "\n",
        "It usually contains two parts\n",
        "\n",
        "1. Vocabulary - Known words\n",
        "2. Measure - presence of known words\n",
        "\n",
        "Refereed to as a bag of words because `structure and order of words is discarded`\n",
        "\n",
        "The analysis uses a `histogram` of the occurrence of each known word in a sentence\n"
      ],
      "metadata": {
        "id": "oD1kSvEAatZx"
      }
    },
    {
      "cell_type": "markdown",
      "source": [
        "# Exploritory Data Analysis"
      ],
      "metadata": {
        "id": "3a52l8FCIBoo"
      }
    },
    {
      "cell_type": "code",
      "source": [
        "import numpy as np\n",
        "import matplotlib.pyplot as plt\n",
        "import seaborn as sns\n",
        "\n",
        "# using ggplot style plots\n",
        "plt.style.use('ggplot')\n",
        "\n",
        "# natural language toolkit\n",
        "import nltk"
      ],
      "metadata": {
        "id": "57G0GogeiE6s"
      },
      "execution_count": 3,
      "outputs": []
    },
    {
      "cell_type": "code",
      "source": [
        "# type of data being used\n",
        "covidData['text'].values[0]"
      ],
      "metadata": {
        "colab": {
          "base_uri": "https://localhost:8080/",
          "height": 54
        },
        "id": "K74AD9aDjp_6",
        "outputId": "fb47f3eb-0ce9-4115-f619-8ae73cc7dcba"
      },
      "execution_count": 4,
      "outputs": [
        {
          "output_type": "execute_result",
          "data": {
            "text/plain": [
              "'If I smelled the scent of hand sanitizers today on someone in the past, I would think they were so intoxicated that… https://t.co/QZvYbrOgb0'"
            ],
            "application/vnd.google.colaboratory.intrinsic+json": {
              "type": "string"
            }
          },
          "metadata": {},
          "execution_count": 4
        }
      ]
    },
    {
      "cell_type": "code",
      "source": [
        "covidData.shape"
      ],
      "metadata": {
        "colab": {
          "base_uri": "https://localhost:8080/",
          "height": 175
        },
        "id": "A2Q-uV_6kDaF",
        "outputId": "b18aa2f8-24dd-4320-f63a-2c76d77d4097"
      },
      "execution_count": null,
      "outputs": [
        {
          "output_type": "error",
          "ename": "NameError",
          "evalue": "ignored",
          "traceback": [
            "\u001b[0;31m---------------------------------------------------------------------------\u001b[0m",
            "\u001b[0;31mNameError\u001b[0m                                 Traceback (most recent call last)",
            "\u001b[0;32m<ipython-input-6-8b87ca5f045f>\u001b[0m in \u001b[0;36m<cell line: 1>\u001b[0;34m()\u001b[0m\n\u001b[0;32m----> 1\u001b[0;31m \u001b[0mcovidData\u001b[0m\u001b[0;34m.\u001b[0m\u001b[0mshape\u001b[0m\u001b[0;34m\u001b[0m\u001b[0;34m\u001b[0m\u001b[0m\n\u001b[0m",
            "\u001b[0;31mNameError\u001b[0m: name 'covidData' is not defined"
          ]
        }
      ]
    },
    {
      "cell_type": "code",
      "source": [
        "covidData.info()"
      ],
      "metadata": {
        "colab": {
          "base_uri": "https://localhost:8080/"
        },
        "id": "j7OMdBmt6jy4",
        "outputId": "6431df81-3924-42ad-f44a-b8763d4cebb6"
      },
      "execution_count": 5,
      "outputs": [
        {
          "output_type": "stream",
          "name": "stdout",
          "text": [
            "<class 'pandas.core.frame.DataFrame'>\n",
            "RangeIndex: 179108 entries, 0 to 179107\n",
            "Data columns (total 13 columns):\n",
            " #   Column            Non-Null Count   Dtype \n",
            "---  ------            --------------   ----- \n",
            " 0   user_name         179108 non-null  object\n",
            " 1   user_location     142337 non-null  object\n",
            " 2   user_description  168822 non-null  object\n",
            " 3   user_created      179108 non-null  object\n",
            " 4   user_followers    179108 non-null  int64 \n",
            " 5   user_friends      179108 non-null  int64 \n",
            " 6   user_favourites   179108 non-null  int64 \n",
            " 7   user_verified     179108 non-null  bool  \n",
            " 8   date              179108 non-null  object\n",
            " 9   text              179108 non-null  object\n",
            " 10  hashtags          127774 non-null  object\n",
            " 11  source            179031 non-null  object\n",
            " 12  is_retweet        179108 non-null  bool  \n",
            "dtypes: bool(2), int64(3), object(8)\n",
            "memory usage: 15.4+ MB\n"
          ]
        }
      ]
    },
    {
      "cell_type": "code",
      "source": [
        "# posts by verified users\n",
        "\n",
        "covidData['user_verified'].value_counts().plot( kind = 'pie',title = 'Piechart of Verified Users',\n",
        "                                               figsize = (10, 5), ylabel= 'Verified Users')"
      ],
      "metadata": {
        "id": "FHukdZppPxHI",
        "colab": {
          "base_uri": "https://localhost:8080/",
          "height": 463
        },
        "outputId": "65c62f12-a486-4af4-8cf5-c1f125b6870d"
      },
      "execution_count": 6,
      "outputs": [
        {
          "output_type": "execute_result",
          "data": {
            "text/plain": [
              "<Axes: title={'center': 'Piechart of Verified Users'}, ylabel='Verified Users'>"
            ]
          },
          "metadata": {},
          "execution_count": 6
        },
        {
          "output_type": "display_data",
          "data": {
            "text/plain": [
              "<Figure size 1000x500 with 1 Axes>"
            ],
            "image/png": "[encoded data removed]"
          },
          "metadata": {}
        }
      ]
    },
    {
      "cell_type": "code",
      "source": [
        "# types of devices used by the users\n",
        "device_type = covidData['source'].value_counts()\n",
        "\n",
        "device_type"
      ],
      "metadata": {
        "id": "3If8mpLSPylT",
        "colab": {
          "base_uri": "https://localhost:8080/"
        },
        "outputId": "0771e1d7-7de8-4679-ed67-138df22f69d2"
      },
      "execution_count": 7,
      "outputs": [
        {
          "output_type": "execute_result",
          "data": {
            "text/plain": [
              "Twitter Web App              56891\n",
              "Twitter for Android          40179\n",
              "Twitter for iPhone           35472\n",
              "TweetDeck                     8543\n",
              "Hootsuite Inc.                7321\n",
              "                             ...  \n",
              "DataBlogger                      1\n",
              "Dear_Assistant                   1\n",
              "OnlyPultCom                      1\n",
              "Washington Square Parkerz        1\n",
              "Radiology: AI app                1\n",
              "Name: source, Length: 610, dtype: int64"
            ]
          },
          "metadata": {},
          "execution_count": 7
        }
      ]
    },
    {
      "cell_type": "code",
      "source": [
        "device_type['other'] = device_type.drop(['Twitter Web App',\n",
        "                                        'Twitter for iPhone',\n",
        "                                        'Twitter for Android']).sum()\n",
        "device_type = device_type[['Twitter Web App',\n",
        "                           'Twitter for iPhone',\n",
        "                           'Twitter for Android',\n",
        "                           'other']].fillna(0).astype(int)\n",
        "\n",
        "device_type"
      ],
      "metadata": {
        "colab": {
          "base_uri": "https://localhost:8080/"
        },
        "id": "OetuxGSIpcxC",
        "outputId": "68393f42-bdbf-432c-cc65-8df67ff1ca4e"
      },
      "execution_count": 8,
      "outputs": [
        {
          "output_type": "execute_result",
          "data": {
            "text/plain": [
              "Twitter Web App        56891\n",
              "Twitter for iPhone     35472\n",
              "Twitter for Android    40179\n",
              "other                  46489\n",
              "Name: source, dtype: int64"
            ]
          },
          "metadata": {},
          "execution_count": 8
        }
      ]
    },
    {
      "cell_type": "code",
      "source": [
        "device_type.columns = ['Type', 'Count']\n",
        "device_type"
      ],
      "metadata": {
        "colab": {
          "base_uri": "https://localhost:8080/"
        },
        "id": "EMUp2QaQr37V",
        "outputId": "826e9752-03e5-4b61-ddf2-52f3e9005558"
      },
      "execution_count": 9,
      "outputs": [
        {
          "output_type": "execute_result",
          "data": {
            "text/plain": [
              "Twitter Web App        56891\n",
              "Twitter for iPhone     35472\n",
              "Twitter for Android    40179\n",
              "other                  46489\n",
              "Name: source, dtype: int64"
            ]
          },
          "metadata": {},
          "execution_count": 9
        }
      ]
    },
    {
      "cell_type": "code",
      "source": [
        "device_type.plot(kind ='pie',\n",
        "                 title = 'Pie Chart of Devices Used',\n",
        "                 figsize = (10,5),\n",
        "                 ylabel = 'Posts From')"
      ],
      "metadata": {
        "colab": {
          "base_uri": "https://localhost:8080/",
          "height": 463
        },
        "id": "LvdJkRnZsPdW",
        "outputId": "8ccf9803-c4a0-4de2-e2da-02e0508d1e50"
      },
      "execution_count": 10,
      "outputs": [
        {
          "output_type": "execute_result",
          "data": {
            "text/plain": [
              "<Axes: title={'center': 'Pie Chart of Devices Used'}, ylabel='Posts From'>"
            ]
          },
          "metadata": {},
          "execution_count": 10
        },
        {
          "output_type": "display_data",
          "data": {
            "text/plain": [
              "<Figure size 1000x500 with 1 Axes>"
            ],
            "image/png": "[encoded data removed]"
          },
          "metadata": {}
        }
      ]
    },
    {
      "cell_type": "markdown",
      "source": [
        "# Basic NLTK"
      ],
      "metadata": {
        "id": "M02RpmTctN22"
      }
    },
    {
      "cell_type": "code",
      "source": [
        "# example\n",
        "example = covidData['text'][50]\n",
        "print(example)"
      ],
      "metadata": {
        "colab": {
          "base_uri": "https://localhost:8080/"
        },
        "id": "JfRXHUr-tDW5",
        "outputId": "6fa162d7-41de-4b23-f9de-86b3e134eb0a"
      },
      "execution_count": 11,
      "outputs": [
        {
          "output_type": "stream",
          "name": "stdout",
          "text": [
            "Coronavirus Testing Fiasco: St Mirren have pledged to undertake an \"urgent review\" of their Covid-19 testing proced… https://t.co/Ifse0whbVE\n"
          ]
        }
      ]
    },
    {
      "cell_type": "code",
      "source": [
        "nltk.download('punkt')"
      ],
      "metadata": {
        "colab": {
          "base_uri": "https://localhost:8080/"
        },
        "id": "TJ5xdBv1xgWv",
        "outputId": "65a0fe1e-e29f-4123-ff94-5ad582f764bd"
      },
      "execution_count": 12,
      "outputs": [
        {
          "output_type": "stream",
          "name": "stderr",
          "text": [
            "[nltk_data] Downloading package punkt to /root/nltk_data...\n",
            "[nltk_data]   Unzipping tokenizers/punkt.zip.\n"
          ]
        },
        {
          "output_type": "execute_result",
          "data": {
            "text/plain": [
              "True"
            ]
          },
          "metadata": {},
          "execution_count": 12
        }
      ]
    },
    {
      "cell_type": "code",
      "source": [
        "# using the nltk to split the sentence into individual words\n",
        "tokens = nltk.word_tokenize(example)\n",
        "tokens[:20]"
      ],
      "metadata": {
        "colab": {
          "base_uri": "https://localhost:8080/"
        },
        "id": "iN_TyHUTwKOH",
        "outputId": "9f08185e-efa6-446c-ffa5-f69f3769c051"
      },
      "execution_count": 13,
      "outputs": [
        {
          "output_type": "execute_result",
          "data": {
            "text/plain": [
              "['Coronavirus',\n",
              " 'Testing',\n",
              " 'Fiasco',\n",
              " ':',\n",
              " 'St',\n",
              " 'Mirren',\n",
              " 'have',\n",
              " 'pledged',\n",
              " 'to',\n",
              " 'undertake',\n",
              " 'an',\n",
              " '``',\n",
              " 'urgent',\n",
              " 'review',\n",
              " \"''\",\n",
              " 'of',\n",
              " 'their',\n",
              " 'Covid-19',\n",
              " 'testing',\n",
              " 'proced…']"
            ]
          },
          "metadata": {},
          "execution_count": 13
        }
      ]
    },
    {
      "cell_type": "code",
      "source": [
        "nltk.download('averaged_perceptron_tagger')"
      ],
      "metadata": {
        "colab": {
          "base_uri": "https://localhost:8080/"
        },
        "id": "_KPBg_ecyVCN",
        "outputId": "e051723f-61b9-43ad-fbb3-285cf6e243e1"
      },
      "execution_count": 14,
      "outputs": [
        {
          "output_type": "stream",
          "name": "stderr",
          "text": [
            "[nltk_data] Downloading package averaged_perceptron_tagger to\n",
            "[nltk_data]     /root/nltk_data...\n",
            "[nltk_data]   Unzipping taggers/averaged_perceptron_tagger.zip.\n"
          ]
        },
        {
          "output_type": "execute_result",
          "data": {
            "text/plain": [
              "True"
            ]
          },
          "metadata": {},
          "execution_count": 14
        }
      ]
    },
    {
      "cell_type": "code",
      "source": [
        "# finding the part of speech for each token\n",
        "tagged = nltk.pos_tag(tokens)\n",
        "tagged[:10]"
      ],
      "metadata": {
        "colab": {
          "base_uri": "https://localhost:8080/"
        },
        "id": "snH6Lzc4x9Ng",
        "outputId": "537851ef-5e9e-4004-d2d8-592d613817ba"
      },
      "execution_count": 15,
      "outputs": [
        {
          "output_type": "execute_result",
          "data": {
            "text/plain": [
              "[('Coronavirus', 'NNP'),\n",
              " ('Testing', 'NNP'),\n",
              " ('Fiasco', 'NNP'),\n",
              " (':', ':'),\n",
              " ('St', 'NNP'),\n",
              " ('Mirren', 'NNP'),\n",
              " ('have', 'VBP'),\n",
              " ('pledged', 'VBN'),\n",
              " ('to', 'TO'),\n",
              " ('undertake', 'VB')]"
            ]
          },
          "metadata": {},
          "execution_count": 15
        }
      ]
    },
    {
      "cell_type": "code",
      "source": [
        "nltk.download('maxent_ne_chunker')"
      ],
      "metadata": {
        "colab": {
          "base_uri": "https://localhost:8080/"
        },
        "id": "-hblDNFn0_UP",
        "outputId": "dc13e248-3a6f-4d93-b945-3d8685cf27fd"
      },
      "execution_count": 16,
      "outputs": [
        {
          "output_type": "stream",
          "name": "stderr",
          "text": [
            "[nltk_data] Downloading package maxent_ne_chunker to\n",
            "[nltk_data]     /root/nltk_data...\n",
            "[nltk_data]   Unzipping chunkers/maxent_ne_chunker.zip.\n"
          ]
        },
        {
          "output_type": "execute_result",
          "data": {
            "text/plain": [
              "True"
            ]
          },
          "metadata": {},
          "execution_count": 16
        }
      ]
    },
    {
      "cell_type": "code",
      "source": [
        "nltk.download('words')"
      ],
      "metadata": {
        "colab": {
          "base_uri": "https://localhost:8080/"
        },
        "id": "_q3XjBdU1E-M",
        "outputId": "4d425aaa-7d16-4455-c8e7-297797822275"
      },
      "execution_count": 17,
      "outputs": [
        {
          "output_type": "stream",
          "name": "stderr",
          "text": [
            "[nltk_data] Downloading package words to /root/nltk_data...\n",
            "[nltk_data]   Unzipping corpora/words.zip.\n"
          ]
        },
        {
          "output_type": "execute_result",
          "data": {
            "text/plain": [
              "True"
            ]
          },
          "metadata": {},
          "execution_count": 17
        }
      ]
    },
    {
      "cell_type": "code",
      "source": [
        "pip install svgling"
      ],
      "metadata": {
        "colab": {
          "base_uri": "https://localhost:8080/"
        },
        "id": "nKS9a6-Y1ff8",
        "outputId": "3f37aec1-7e5b-48f0-93ae-9166c1672bd6"
      },
      "execution_count": 18,
      "outputs": [
        {
          "output_type": "stream",
          "name": "stdout",
          "text": [
            "Collecting svgling\n",
            "  Downloading svgling-0.4.0-py3-none-any.whl (23 kB)\n",
            "Collecting svgwrite (from svgling)\n",
            "  Downloading svgwrite-1.4.3-py3-none-any.whl (67 kB)\n",
            "\u001b[2K     \u001b[90m━━━━━━━━━━━━━━━━━━━━━━━━━━━━━━━━━━━━━━━━\u001b[0m \u001b[32m67.1/67.1 kB\u001b[0m \u001b[31m1.4 MB/s\u001b[0m eta \u001b[36m0:00:00\u001b[0m\n",
            "\u001b[?25hInstalling collected packages: svgwrite, svgling\n",
            "Successfully installed svgling-0.4.0 svgwrite-1.4.3\n"
          ]
        }
      ]
    },
    {
      "cell_type": "code",
      "source": [
        "# group the data into chunks based on the tags\n",
        "\n",
        "entities = nltk.chunk.ne_chunk(tagged)\n",
        "entities.pprint()"
      ],
      "metadata": {
        "colab": {
          "base_uri": "https://localhost:8080/"
        },
        "id": "Yh5oL1eW0tky",
        "outputId": "75d5a537-b114-4db4-f9e2-02abc69753fc"
      },
      "execution_count": 19,
      "outputs": [
        {
          "output_type": "stream",
          "name": "stdout",
          "text": [
            "(S\n",
            "  (GPE Coronavirus/NNP)\n",
            "  Testing/NNP\n",
            "  Fiasco/NNP\n",
            "  :/:\n",
            "  St/NNP\n",
            "  Mirren/NNP\n",
            "  have/VBP\n",
            "  pledged/VBN\n",
            "  to/TO\n",
            "  undertake/VB\n",
            "  an/DT\n",
            "  ``/``\n",
            "  urgent/JJ\n",
            "  review/NN\n",
            "  ''/''\n",
            "  of/IN\n",
            "  their/PRP$\n",
            "  Covid-19/JJ\n",
            "  testing/NN\n",
            "  proced…/NN\n",
            "  https/NN\n",
            "  :/:\n",
            "  //t.co/Ifse0whbVE/NN)\n"
          ]
        }
      ]
    },
    {
      "cell_type": "markdown",
      "source": [
        "# VADER Sentiment Scoring\n",
        "\n",
        "Using NLTK `SentimentIntensityAnalyze` to get the `negative/neutral/positive` scores of the text\n",
        "\n",
        "* using bag of words approach\n",
        "1. stop words are removed `and, the, ...`\n",
        "2. each word is scored and combined with the total score\n",
        "\n",
        "VADER - `Valence Aware Dictionary and sEntiment Reasoner`\n",
        "\n",
        "## Disadvantage\n",
        "1. Does not account for the `relationship between words`"
      ],
      "metadata": {
        "id": "kkdPBJ7uj5mh"
      }
    },
    {
      "cell_type": "code",
      "source": [
        "nltk.download('vader_lexicon')"
      ],
      "metadata": {
        "colab": {
          "base_uri": "https://localhost:8080/"
        },
        "id": "1yCaWERIlv5m",
        "outputId": "c8a23909-eb96-4f9b-a09e-aade55bb4311"
      },
      "execution_count": 21,
      "outputs": [
        {
          "output_type": "stream",
          "name": "stderr",
          "text": [
            "[nltk_data] Downloading package vader_lexicon to /root/nltk_data...\n"
          ]
        },
        {
          "output_type": "execute_result",
          "data": {
            "text/plain": [
              "True"
            ]
          },
          "metadata": {},
          "execution_count": 21
        }
      ]
    },
    {
      "cell_type": "code",
      "source": [
        "from nltk.sentiment import SentimentIntensityAnalyzer\n",
        "from tqdm.notebook import tqdm # progress bar tracker\n",
        "\n",
        "sia = SentimentIntensityAnalyzer()"
      ],
      "metadata": {
        "id": "g8KIfHWZ2NqF"
      },
      "execution_count": 22,
      "outputs": []
    },
    {
      "cell_type": "code",
      "source": [
        "# example implementation\n",
        "sia.polarity_scores('I am so happy!')"
      ],
      "metadata": {
        "colab": {
          "base_uri": "https://localhost:8080/"
        },
        "id": "whgzWk9Pl1Q4",
        "outputId": "52fc6e95-2e76-4b18-b992-e81551463901"
      },
      "execution_count": 23,
      "outputs": [
        {
          "output_type": "execute_result",
          "data": {
            "text/plain": [
              "{'neg': 0.0, 'neu': 0.318, 'pos': 0.682, 'compound': 0.6468}"
            ]
          },
          "metadata": {},
          "execution_count": 23
        }
      ]
    },
    {
      "cell_type": "markdown",
      "source": [
        "### Polarity_scores()\n",
        "creates a vector from `0` to `1`\n",
        "\n",
        "groups the scores into\n",
        "1. positive\n",
        "2. neutral\n",
        "3. Negative"
      ],
      "metadata": {
        "id": "dXm70y1XmCUC"
      }
    },
    {
      "cell_type": "code",
      "source": [
        "sia.polarity_scores('Monday is the worst day ever!')"
      ],
      "metadata": {
        "colab": {
          "base_uri": "https://localhost:8080/"
        },
        "id": "47XiggESmBrl",
        "outputId": "ee657ac9-f16c-4d54-c8c1-4d80e0857a40"
      },
      "execution_count": 25,
      "outputs": [
        {
          "output_type": "execute_result",
          "data": {
            "text/plain": [
              "{'neg': 0.468, 'neu': 0.532, 'pos': 0.0, 'compound': -0.6588}"
            ]
          },
          "metadata": {},
          "execution_count": 25
        }
      ]
    },
    {
      "cell_type": "code",
      "source": [
        "# on the initial text example\n",
        "sia.polarity_scores(example)"
      ],
      "metadata": {
        "colab": {
          "base_uri": "https://localhost:8080/"
        },
        "id": "ih5J9PdRmm1N",
        "outputId": "85e458f7-5a4e-4e48-feda-b80730777fe1"
      },
      "execution_count": 27,
      "outputs": [
        {
          "output_type": "execute_result",
          "data": {
            "text/plain": [
              "{'neg': 0.156, 'neu': 0.758, 'pos': 0.085, 'compound': -0.3612}"
            ]
          },
          "metadata": {},
          "execution_count": 27
        }
      ]
    },
    {
      "cell_type": "markdown",
      "source": [
        "## Interpretation\n",
        "the example statement is mostly negative as the compound score value is `-0.3612`"
      ],
      "metadata": {
        "id": "MLAmJ2ZvmzCt"
      }
    },
    {
      "cell_type": "code",
      "source": [
        "# running polarity score on the whole data set"
      ],
      "metadata": {
        "id": "mOjRTWG1nBuG"
      },
      "execution_count": null,
      "outputs": []
    },
    {
      "cell_type": "markdown",
      "source": [
        "# Pos Tagging codes\n",
        "\n",
        "[Pos tagging tutorial](https://www.freecodecamp.org/news/an-introduction-to-part-of-speech-tagging-and-the-hidden-markov-model-953d45338f24/#:~:text=In%20corpus%20linguistics%2C%20part-of-speech%20tagging%20%28POS%20tagging%20or,related%20words%20in%20a%20phrase%2C%20sentence%2C%20or%20paragraph.)\n",
        "\n",
        "## Tags and Abbreviations\n",
        "|Abbreviation|Meaning|\n",
        "|:--|--:|\n",
        "|CC|coordinating conjunction|\n",
        "|CD|cardinal digit|\n",
        "|DT|determiner|\n",
        "|EX|existential there|\n",
        "|FW\tforeign word\n",
        "|IN|preposition/subordinating conjunction|\n",
        "|JJ|This NLTK POS Tag is an adjective (large)|\n",
        "|JJR|adjective, comparative (larger)|\n",
        "|JJS|adjective, superlative (largest)|\n",
        "|LS|list market|\n",
        "|MD|modal (could, will)|\n",
        "|NN|noun, singular (cat, tree)|\n",
        "|NNS|noun plural (desks)|\n",
        "|NNP|proper noun, singular (sarah)|\n",
        "|NNPS|proper noun, plural (indians or americans)|\n",
        "|PDT|predeterminer (all, both, half)|\n",
        "|POS|possessive ending (parent\\ ‘s)|\n",
        "|PRP|personal pronoun (hers, herself, him, himself)|\n",
        "|PRP$|possessive pronoun (her, his, mine, my, our )|\n",
        "|RB|adverb (occasionally, swiftly)|\n",
        "|RBR|adverb, comparative (greater)|\n",
        "|RBS|adverb, superlative (biggest)|\n",
        "|RP|particle (about)|\n",
        "|TO|infinite marker (to)|\n",
        "|UH|interjection (goodbye)|\n",
        "|VB|verb (ask)|\n",
        "|VBG|verb gerund (judging)|\n",
        "|VBD|verb past tense (pleaded)|\n",
        "|VBN|verb past participle (reunified)|\n",
        "|VBP|verb, present tense not 3rd person singular(wrap)|\n",
        "|VBZ|verb, present tense with 3rd person singular (bases)|\n",
        "|WDT|wh-determiner (that, what)|\n",
        "|WP|wh- pronoun (who)|\n",
        "|WRB|wh- adverb (how)|"
      ],
      "metadata": {
        "id": "H_Yb00pEyaee"
      }
    },
    {
      "cell_type": "code",
      "source": [],
      "metadata": {
        "id": "G_cnYevA0YY6"
      },
      "execution_count": null,
      "outputs": []
    },
    {
      "cell_type": "markdown",
      "source": [
        "## Description\n",
        "\n",
        "there are a total of `179108` tweets with `13 columns`\n",
        "\n",
        "The key columns are the `text` and the `users_name` columns\n",
        "\n",
        "The text column reprersents the tweets posted.The following is an example\n",
        "\n",
        "```\n",
        "If I smelled the scent of hand sanitizers today on someone in the past, I would think they were so intoxicated that… https://t.co/QZvYbrOgb0\n",
        "```"
      ],
      "metadata": {
        "id": "5qpXgYHVkKOr"
      }
    },
    {
      "cell_type": "markdown",
      "source": [
        "# Analysis\n",
        "\n",
        "## Pretrained Model Comparison\n",
        "\n",
        "### Roberta Model\n",
        "\n",
        "sourced from `hugging face` 🤗\n",
        "\n",
        "### Huggingface Pipeline\n",
        "\n"
      ],
      "metadata": {
        "id": "s6vqQ_dUiR4X"
      }
    },
    {
      "cell_type": "code",
      "source": [],
      "metadata": {
        "id": "Snbay_Soi8zR"
      },
      "execution_count": null,
      "outputs": []
    }
  ]
}